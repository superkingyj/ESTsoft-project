{
 "cells": [
  {
   "cell_type": "code",
   "execution_count": 1,
   "metadata": {},
   "outputs": [
    {
     "name": "stdout",
     "output_type": "stream",
     "text": [
      "                   A         B         C\n",
      "2023-07-04  0.512199  1.579863  0.737838\n",
      "2023-07-05 -1.166671  1.123739  0.272191\n",
      "2023-07-06  1.225853  0.710996 -0.797947\n",
      "2023-07-07 -2.110854 -1.284816  0.515131\n",
      "2023-07-08  1.235535 -1.150216 -0.493754\n"
     ]
    }
   ],
   "source": [
    "import numpy as np\n",
    "import pandas as pd\n",
    "\n",
    "data = np.random.randn(5, 3)\n",
    "columns = [\"A\", \"B\", \"C\"]\n",
    "index = pd.date_range(\"2023-07-04\", periods=5)\n",
    "\n",
    "df = pd.DataFrame(data, index=index, columns=columns)\n",
    "print(df)"
   ]
  }
 ],
 "metadata": {
  "kernelspec": {
   "display_name": "Python 3",
   "language": "python",
   "name": "python3"
  },
  "language_info": {
   "codemirror_mode": {
    "name": "ipython",
    "version": 3
   },
   "file_extension": ".py",
   "mimetype": "text/x-python",
   "name": "python",
   "nbconvert_exporter": "python",
   "pygments_lexer": "ipython3",
   "version": "3.8.9"
  },
  "orig_nbformat": 4
 },
 "nbformat": 4,
 "nbformat_minor": 2
}
